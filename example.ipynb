{
 "cells": [
  {
   "cell_type": "code",
   "execution_count": null,
   "metadata": {},
   "outputs": [],
   "source": [
    "import tensorflow as tf\n",
    "tf.compat.v1.logging.set_verbosity(tf.compat.v1.logging.ERROR)\n",
    "print(\"Num GPUs Available: \", len(tf.config.list_physical_devices('GPU')))"
   ]
  },
  {
   "cell_type": "code",
   "execution_count": null,
   "metadata": {},
   "outputs": [],
   "source": [
    "from keras import layers\n",
    "from keras.optimizer_v2.adam import Adam\n",
    "\n",
    "import keras_transfer_learning as ktl"
   ]
  },
  {
   "cell_type": "code",
   "execution_count": null,
   "metadata": {},
   "outputs": [],
   "source": [
    "(x_train, y_train), (x_test, y_test), key = ktl.load_dataset('fmnist')"
   ]
  },
  {
   "cell_type": "code",
   "execution_count": null,
   "metadata": {},
   "outputs": [],
   "source": [
    "top_layers = [\n",
    "    layers.GlobalAveragePooling2D(),\n",
    "    layers.Dense(10, activation='softmax')\n",
    "]\n",
    "model, base_model = ktl.build_model(\n",
    "    model_name='resnet50', \n",
    "    input_shape=(32, 32), \n",
    "    top_layers=top_layers\n",
    ")\n",
    "model.compile(\n",
    "    optimizer=Adam(learning_rate=1e-3), \n",
    "    loss='categorical_crossentropy', \n",
    "    metrics=['accuracy']\n",
    ")\n",
    "model.summary()"
   ]
  },
  {
   "cell_type": "code",
   "execution_count": null,
   "metadata": {},
   "outputs": [],
   "source": [
    "initial_epochs = 10\n",
    "fine_tune_epochs = 5"
   ]
  },
  {
   "cell_type": "code",
   "execution_count": null,
   "metadata": {},
   "outputs": [],
   "source": [
    "def augmentation_layer(x: tf.Tensor) -> tf.Tensor:\n",
    "    x = tf.cast(x, dtype=tf.float32)\n",
    "    x = tf.image.random_flip_left_right(x)\n",
    "\n",
    "    return x\n",
    "\n",
    "train_dataset, test_dataset = ktl.get_data_generators(x_train, y_train, x_test, y_test, augmentation_layer)"
   ]
  },
  {
   "cell_type": "code",
   "execution_count": null,
   "metadata": {},
   "outputs": [],
   "source": [
    "initial_history = model.fit(\n",
    "    train_dataset,\n",
    "    epochs=initial_epochs,\n",
    "    validation_data=test_dataset,\n",
    ")"
   ]
  },
  {
   "cell_type": "code",
   "execution_count": null,
   "metadata": {},
   "outputs": [],
   "source": [
    "ktl.plot_history(initial_history)\n"
   ]
  },
  {
   "cell_type": "code",
   "execution_count": null,
   "metadata": {},
   "outputs": [],
   "source": [
    "labels = [val for val in key.values()]\n",
    "ktl.plot_confusion_matrix(model, x_train, y_train, labels)"
   ]
  },
  {
   "cell_type": "code",
   "execution_count": null,
   "metadata": {},
   "outputs": [],
   "source": [
    "ktl.unfreeze_model(model, base_model, 20)\n",
    "model.compile(\n",
    "    optimizer=Adam(learning_rate=1e-5), \n",
    "    loss='categorical_crossentropy', \n",
    "    metrics=['accuracy']\n",
    ")\n",
    "model.summary()"
   ]
  },
  {
   "cell_type": "code",
   "execution_count": null,
   "metadata": {},
   "outputs": [],
   "source": [
    "total_epochs =  initial_epochs + fine_tune_epochs\n",
    "ft_history = model.fit(\n",
    "    train_dataset,\n",
    "    epochs=total_epochs,\n",
    "    initial_epoch=initial_history.epoch[-1]+1,\n",
    "    validation_data=test_dataset\n",
    ")"
   ]
  },
  {
   "cell_type": "code",
   "execution_count": null,
   "metadata": {},
   "outputs": [],
   "source": [
    "ktl.plot_history(ft_history)"
   ]
  },
  {
   "cell_type": "code",
   "execution_count": null,
   "metadata": {},
   "outputs": [],
   "source": [
    "labels = [val for val in key.values()]\n",
    "ktl.plot_confusion_matrix(model, x_train, y_train, labels)"
   ]
  },
  {
   "cell_type": "code",
   "execution_count": null,
   "metadata": {},
   "outputs": [],
   "source": [
    "from pathlib import Path\n",
    "dir = Path('./models/').resolve()\n",
    "if not dir.exists():\n",
    "    dir.mkdir()\n",
    "model.save(dir / f'model_{total_epochs}epochs')"
   ]
  }
 ],
 "metadata": {
  "kernelspec": {
   "display_name": "tfgpu",
   "language": "python",
   "name": "python3"
  },
  "language_info": {
   "codemirror_mode": {
    "name": "ipython",
    "version": 3
   },
   "file_extension": ".py",
   "mimetype": "text/x-python",
   "name": "python",
   "nbconvert_exporter": "python",
   "pygments_lexer": "ipython3",
   "version": "3.8.16"
  },
  "orig_nbformat": 4,
  "vscode": {
   "interpreter": {
    "hash": "8bdf5e1baa6e849ecee2da54914efd838dfe4d8b053e14d00ec92376e0a3a48c"
   }
  }
 },
 "nbformat": 4,
 "nbformat_minor": 2
}
